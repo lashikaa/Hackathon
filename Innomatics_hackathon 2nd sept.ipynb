{
  "nbformat": 4,
  "nbformat_minor": 0,
  "metadata": {
    "colab": {
      "provenance": []
    },
    "kernelspec": {
      "name": "python3",
      "display_name": "Python 3"
    },
    "language_info": {
      "name": "python"
    }
  },
  "cells": [
    {
      "cell_type": "code",
      "execution_count": null,
      "metadata": {
        "id": "2i2EcS7M_COF"
      },
      "outputs": [],
      "source": [
        "import pandas as pd\n",
        "import matplotlib.pyplot as plt\n",
        "import numpy as np\n",
        "from sklearn.model_selection import train_test_split\n",
        "from sklearn.linear_model import LinearRegression\n",
        "from sklearn.tree import DecisionTreeRegressor\n",
        "from sklearn.ensemble import RandomForestRegressor\n",
        "from sklearn.neighbors import KNeighborsRegressor\n",
        "from sklearn.metrics import r2_score, adjusted_rand_score\n",
        "from sklearn.preprocessing import OneHotEncoder\n",
        "from sklearn.compose import ColumnTransformer\n",
        "from sklearn.pipeline import Pipeline"
      ]
    },
    {
      "cell_type": "code",
      "source": [
        "data = pd.read_csv('uber_rides_data.xlsx - sample_train.csv')"
      ],
      "metadata": {
        "id": "IbKT24-v_r7Q"
      },
      "execution_count": null,
      "outputs": []
    },
    {
      "cell_type": "code",
      "source": [
        "shape = data.shape\n",
        "print(shape)"
      ],
      "metadata": {
        "colab": {
          "base_uri": "https://localhost:8080/"
        },
        "id": "M8f4eknD_yj2",
        "outputId": "d0138b86-2766-447f-d79e-6ac99f3031f1"
      },
      "execution_count": null,
      "outputs": [
        {
          "output_type": "stream",
          "name": "stdout",
          "text": [
            "(200000, 8)\n"
          ]
        }
      ]
    },
    {
      "cell_type": "code",
      "source": [
        "integer_columns = data.select_dtypes(include=['int64'])\n",
        "\n",
        "num_integer_columns = len(integer_columns.columns)\n",
        "\n",
        "print(f\"Number of integer columns in the dataset: {num_integer_columns}\")"
      ],
      "metadata": {
        "colab": {
          "base_uri": "https://localhost:8080/"
        },
        "id": "cAyziLMz_5st",
        "outputId": "3b95fd37-2f27-4c67-9ffc-1bf7d02c1b94"
      },
      "execution_count": null,
      "outputs": [
        {
          "output_type": "stream",
          "name": "stdout",
          "text": [
            "Number of integer columns in the dataset: 2\n"
          ]
        }
      ]
    },
    {
      "cell_type": "code",
      "source": [
        "missing_values = data['dropoff_longitude'].isnull().sum()\n",
        "\n",
        "print(f\"Number of missing values in 'dropoff_longitude' column: {missing_values}\")"
      ],
      "metadata": {
        "colab": {
          "base_uri": "https://localhost:8080/"
        },
        "id": "e0Y4A0UbAGzi",
        "outputId": "462294f5-28bb-4a63-918b-d60047b196ee"
      },
      "execution_count": null,
      "outputs": [
        {
          "output_type": "stream",
          "name": "stdout",
          "text": [
            "Number of missing values in 'dropoff_longitude' column: 1\n"
          ]
        }
      ]
    },
    {
      "cell_type": "code",
      "source": [
        "pickup_datetime_dtype = data['pickup_datetime'].dtype\n",
        "\n",
        "print(f\"Data type of 'pickup_datetime' feature: {pickup_datetime_dtype}\")"
      ],
      "metadata": {
        "colab": {
          "base_uri": "https://localhost:8080/"
        },
        "id": "aEVt1VszAWNq",
        "outputId": "d5ab6164-025f-4638-c17f-e04069bfb116"
      },
      "execution_count": null,
      "outputs": [
        {
          "output_type": "stream",
          "name": "stdout",
          "text": [
            "Data type of 'pickup_datetime' feature: object\n"
          ]
        }
      ]
    },
    {
      "cell_type": "code",
      "source": [
        "data = data.dropna(subset=['fare_amount'])\n",
        "\n",
        "average_fare = data['fare_amount'].mean()\n",
        "\n",
        "print(f\"Average fare amount: {average_fare}\")"
      ],
      "metadata": {
        "colab": {
          "base_uri": "https://localhost:8080/"
        },
        "id": "uCj3qiZfAewn",
        "outputId": "12ff1ec5-0c5f-4ae7-cfde-32b5b3eb5509"
      },
      "execution_count": null,
      "outputs": [
        {
          "output_type": "stream",
          "name": "stdout",
          "text": [
            "Average fare amount: 11.359955250000002\n"
          ]
        }
      ]
    },
    {
      "cell_type": "code",
      "source": [
        "def haversine(lat1, lon1, lat2, lon2):\n",
        "    lat1, lon1, lat2, lon2 = map(np.radians, [lat1, lon1, lat2, lon2])\n",
        "    dlon = lon2 - lon1\n",
        "    dlat = lat2 - lat1\n",
        "    a = np.sin(dlat/2)**2 + np.cos(lat1) * np.cos(lat2) * np.sin(dlon/2)**2\n",
        "    c = 2 * np.arcsin(np.sqrt(a))\n",
        "    r = 6371\n",
        "    return c * r\n"
      ],
      "metadata": {
        "id": "bQkyDoTnA_t5"
      },
      "execution_count": null,
      "outputs": []
    },
    {
      "cell_type": "code",
      "source": [
        "data['haversine_distance'] = haversine(data['pickup_latitude'], data['pickup_longitude'],\n",
        "                                       data['dropoff_latitude'], data['dropoff_longitude'])\n",
        "\n",
        "median_haversine_distance = data['haversine_distance'].median()\n",
        "\n",
        "print(f\"Median Haversine distance between pickup and dropoff location: {median_haversine_distance:.2f} kilometers\")"
      ],
      "metadata": {
        "colab": {
          "base_uri": "https://localhost:8080/"
        },
        "id": "nG1wWS1WBJV8",
        "outputId": "df9a5719-4d98-4f3c-ab92-014bcd151d2b"
      },
      "execution_count": null,
      "outputs": [
        {
          "output_type": "stream",
          "name": "stdout",
          "text": [
            "Median Haversine distance between pickup and dropoff location: 2.12 kilometers\n"
          ]
        }
      ]
    },
    {
      "cell_type": "code",
      "source": [
        "max_haversine_distance = data['haversine_distance'].max()\n",
        "\n",
        "print(f\"Maximum Haversine distance between pickup and dropoff location: {max_haversine_distance:.2f} kilometers\")"
      ],
      "metadata": {
        "colab": {
          "base_uri": "https://localhost:8080/"
        },
        "id": "cWtTgfCbBMBb",
        "outputId": "a2598e7c-65cf-4ce6-8e91-c46773c7d358"
      },
      "execution_count": null,
      "outputs": [
        {
          "output_type": "stream",
          "name": "stdout",
          "text": [
            "Maximum Haversine distance between pickup and dropoff location: 16409.24 kilometers\n"
          ]
        }
      ]
    },
    {
      "cell_type": "code",
      "source": [
        "zero_haversine_count = (data['haversine_distance'] == 0.0).sum()\n",
        "\n",
        "print(f\"Number of rides with 0.0 Haversine distance: {zero_haversine_count}\")"
      ],
      "metadata": {
        "colab": {
          "base_uri": "https://localhost:8080/"
        },
        "id": "ZgYKe8WGBiVk",
        "outputId": "6fcd0207-1476-48f5-c70b-775fbfd4ad31"
      },
      "execution_count": null,
      "outputs": [
        {
          "output_type": "stream",
          "name": "stdout",
          "text": [
            "Number of rides with 0.0 Haversine distance: 5632\n"
          ]
        }
      ]
    },
    {
      "cell_type": "code",
      "source": [
        "zero_haversine_rides = data[data['haversine_distance'] == 0.0]\n",
        "\n",
        "mean_fare_zero_haversine = zero_haversine_rides['fare_amount'].mean()\n",
        "\n",
        "print(f\"Mean 'fare_amount' for rides with 0 Haversine distance: {mean_fare_zero_haversine:.2f}\")"
      ],
      "metadata": {
        "colab": {
          "base_uri": "https://localhost:8080/"
        },
        "id": "ehDcJ7fuCB1e",
        "outputId": "22a6b082-bb41-4902-d183-cf4594e1de71"
      },
      "execution_count": null,
      "outputs": [
        {
          "output_type": "stream",
          "name": "stdout",
          "text": [
            "Mean 'fare_amount' for rides with 0 Haversine distance: 11.59\n"
          ]
        }
      ]
    },
    {
      "cell_type": "code",
      "source": [
        "max_fare_amount = data['fare_amount'].max()\n",
        "\n",
        "print(f\"Maximum 'fare_amount' for a ride: {max_fare_amount}\")"
      ],
      "metadata": {
        "colab": {
          "base_uri": "https://localhost:8080/"
        },
        "id": "ze-qyhdjCLRt",
        "outputId": "e3382db5-e7aa-429b-ddad-645a2142bc2d"
      },
      "execution_count": null,
      "outputs": [
        {
          "output_type": "stream",
          "name": "stdout",
          "text": [
            "Maximum 'fare_amount' for a ride: 499.0\n"
          ]
        }
      ]
    },
    {
      "cell_type": "code",
      "source": [
        "costliest_ride = data[data['fare_amount'] == data['fare_amount'].max()]\n",
        "\n",
        "haversine_distance_costliest = haversine(costliest_ride['pickup_latitude'].values[0],\n",
        "                                         costliest_ride['pickup_longitude'].values[0],\n",
        "                                         costliest_ride['dropoff_latitude'].values[0],\n",
        "                                         costliest_ride['dropoff_longitude'].values[0])\n",
        "\n",
        "print(f\"Haversine distance for the costliest ride: {haversine_distance_costliest:.5f} kilometers\")"
      ],
      "metadata": {
        "colab": {
          "base_uri": "https://localhost:8080/"
        },
        "id": "6xaqeKTfCQvm",
        "outputId": "a5e8bf1a-9e82-465d-af7f-ef8f24ae30e1"
      },
      "execution_count": null,
      "outputs": [
        {
          "output_type": "stream",
          "name": "stdout",
          "text": [
            "Haversine distance for the costliest ride: 0.00079 kilometers\n"
          ]
        }
      ]
    },
    {
      "cell_type": "code",
      "source": [
        "data['pickup_datetime'] = pd.to_datetime(data['pickup_datetime'])\n",
        "\n",
        "data['pickup_year'] = data['pickup_datetime'].dt.year\n",
        "\n",
        "rides_2014 = (data['pickup_year'] == 2014).sum()\n",
        "\n",
        "print(f\"Number of rides recorded in the year 2014: {rides_2014}\")"
      ],
      "metadata": {
        "colab": {
          "base_uri": "https://localhost:8080/"
        },
        "id": "OnCzv03GCf-U",
        "outputId": "f251d6f2-c167-4a66-e1b6-85d1a2aae3af"
      },
      "execution_count": null,
      "outputs": [
        {
          "output_type": "stream",
          "name": "stdout",
          "text": [
            "Number of rides recorded in the year 2014: 29968\n"
          ]
        }
      ]
    },
    {
      "cell_type": "code",
      "source": [
        "data['pickup_quarter'] = data['pickup_datetime'].dt.quarter\n",
        "\n",
        "rides_first_quarter_2014 = ((data['pickup_year'] == 2014) & (data['pickup_quarter'] == 1)).sum()\n",
        "\n",
        "print(f\"Number of rides recorded in the first quarter of 2014: {rides_first_quarter_2014}\")"
      ],
      "metadata": {
        "colab": {
          "base_uri": "https://localhost:8080/"
        },
        "id": "M224q_gZCm9A",
        "outputId": "40b5a0a0-ab14-4f1a-b11d-12da51841b6e"
      },
      "execution_count": null,
      "outputs": [
        {
          "output_type": "stream",
          "name": "stdout",
          "text": [
            "Number of rides recorded in the first quarter of 2014: 7687\n"
          ]
        }
      ]
    },
    {
      "cell_type": "code",
      "source": [
        "data['pickup_month'] = data['pickup_datetime'].dt.month\n",
        "data['pickup_day_of_week'] = data['pickup_datetime'].dt.day_name()\n",
        "\n",
        "september_2010_rides = (data['pickup_year'] == 2010) & (data['pickup_month'] == 9)\n",
        "\n",
        "most_rides_day = data[september_2010_rides]['pickup_day_of_week'].mode().values[0]\n",
        "\n",
        "print(f\"Day of the week in September 2010 with the maximum rides: {most_rides_day}\")"
      ],
      "metadata": {
        "colab": {
          "base_uri": "https://localhost:8080/"
        },
        "id": "GeuL0vY8C89w",
        "outputId": "d405f938-0fbc-4f79-e3af-48a267937fb3"
      },
      "execution_count": null,
      "outputs": [
        {
          "output_type": "stream",
          "name": "stdout",
          "text": [
            "Day of the week in September 2010 with the maximum rides: Thursday\n"
          ]
        }
      ]
    },
    {
      "cell_type": "code",
      "source": [
        "data.dropna(inplace=True)"
      ],
      "metadata": {
        "id": "LxQmRZz7Hj8t"
      },
      "execution_count": null,
      "outputs": []
    },
    {
      "cell_type": "code",
      "source": [
        "pickup_lon = data['pickup_longitude']\n",
        "pickup_lat = data['pickup_latitude']\n",
        "dropoff_lon = data['dropoff_longitude']\n",
        "dropoff_lat = data['dropoff_latitude']\n",
        "\n",
        "data['distance'] = haversine(pickup_lon, pickup_lat, dropoff_lon, dropoff_lat)\n",
        "\n",
        "data['ride_week_day'] = data['pickup_datetime'].dt.day_name()\n",
        "\n",
        "data = pd.get_dummies(data, columns=['ride_week_day'])\n",
        "\n",
        "features = ['passenger_count', 'distance'] + [col for col in data.columns if col.startswith('ride_week_day_')]\n",
        "target = 'fare_amount'\n",
        "\n",
        "X = data[features]\n",
        "y = data[target]\n",
        "\n",
        "X_train, X_test, y_train, y_test = train_test_split(X, y, test_size=0.3, random_state=42)"
      ],
      "metadata": {
        "id": "OgPhhDCeIMHe"
      },
      "execution_count": null,
      "outputs": []
    },
    {
      "cell_type": "code",
      "source": [
        "linear_regression = LinearRegression()\n",
        "decision_tree = DecisionTreeRegressor()\n",
        "random_forest = RandomForestRegressor()\n",
        "knn = KNeighborsRegressor()"
      ],
      "metadata": {
        "id": "5g6lfVEjDKfR"
      },
      "execution_count": null,
      "outputs": []
    },
    {
      "cell_type": "code",
      "source": [
        "linear_regression.fit(X_train, y_train)\n",
        "y_pred_linear = linear_regression.predict(X_test)\n",
        "r2_linear = r2_score(y_test, y_pred_linear)"
      ],
      "metadata": {
        "id": "Ruwy6BPEJaml"
      },
      "execution_count": null,
      "outputs": []
    },
    {
      "cell_type": "code",
      "source": [
        "decision_tree.fit(X_train, y_train)\n",
        "y_pred_tree = decision_tree.predict(X_test)\n",
        "r2_tree = r2_score(y_test, y_pred_tree)"
      ],
      "metadata": {
        "id": "C7EKmkkvJtt1"
      },
      "execution_count": null,
      "outputs": []
    },
    {
      "cell_type": "code",
      "source": [
        "random_forest.fit(X_train, y_train)\n",
        "y_pred_forest = random_forest.predict(X_test)\n",
        "r2_forest = r2_score(y_test, y_pred_forest)"
      ],
      "metadata": {
        "id": "5H0s2ZvIJ7Ps"
      },
      "execution_count": null,
      "outputs": []
    },
    {
      "cell_type": "code",
      "source": [
        "knn.fit(X_train, y_train)\n",
        "y_pred_knn = knn.predict(X_test)\n",
        "r2_knn=r2_score(y_test, y_pred_knn)"
      ],
      "metadata": {
        "id": "IytbYb76IVb7"
      },
      "execution_count": null,
      "outputs": []
    },
    {
      "cell_type": "code",
      "source": [
        "n = len(y_test)\n",
        "p = X_test.shape[1]\n",
        "adjusted_r2_linear = 1 - (1 - r2_linear) * ((n - 1) / (n - p - 1))\n",
        "adjusted_r2_tree = 1 - (1 - r2_tree) * ((n - 1) / (n - p - 1))\n",
        "adjusted_r2_forest = 1 - (1 - r2_forest) * ((n - 1) / (n - p - 1))\n",
        "adjusted_r2_knn = 1 - (1 - r2_knn) * ((n - 1) / (n - p - 1))"
      ],
      "metadata": {
        "id": "IQ-JGMIMIejb"
      },
      "execution_count": null,
      "outputs": []
    },
    {
      "cell_type": "code",
      "source": [
        "print(f\"Adjusted R-squared for Linear Regression: {adjusted_r2_linear}\")\n",
        "print(f\"Adjusted R-squared for Decision Tree: {adjusted_r2_tree}\")\n",
        "print(f\"Adjusted R-squared for Random Forest: {adjusted_r2_forest}\")\n",
        "print(f\"Adjusted R-squared for KNN: {adjusted_r2_knn}\")"
      ],
      "metadata": {
        "colab": {
          "base_uri": "https://localhost:8080/"
        },
        "id": "nt04HkBSIiLl",
        "outputId": "1190fa60-97e0-409f-be9f-fb143d81ee23"
      },
      "execution_count": null,
      "outputs": [
        {
          "output_type": "stream",
          "name": "stdout",
          "text": [
            "Adjusted R-squared for Linear Regression: -0.0022801679311490464\n",
            "Adjusted R-squared for Decision Tree: 0.35255447056878086\n",
            "Adjusted R-squared for KNN: 0.5651122739056964\n"
          ]
        }
      ]
    }
  ]
}