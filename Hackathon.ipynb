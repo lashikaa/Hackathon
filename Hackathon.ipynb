{
  "nbformat": 4,
  "nbformat_minor": 0,
  "metadata": {
    "colab": {
      "provenance": []
    },
    "kernelspec": {
      "name": "python3",
      "display_name": "Python 3"
    },
    "language_info": {
      "name": "python"
    }
  },
  "cells": [
    {
      "cell_type": "code",
      "source": [
        "import matplotlib.pyplot as plt"
      ],
      "metadata": {
        "id": "59CndP5JkRoL"
      },
      "execution_count": 31,
      "outputs": []
    },
    {
      "cell_type": "code",
      "execution_count": 5,
      "metadata": {
        "id": "ozr0bsBfdTiN"
      },
      "outputs": [],
      "source": [
        "import pandas as pd\n",
        "\n",
        "df = pd.read_csv('/content/movies.csv')\n",
        "df1= pd.read_csv('/content/ratings.csv')\n",
        "df2= pd.read_csv('/content/tags.csv')\n",
        "df3= pd.read_csv('/content/links.csv')\n"
      ]
    },
    {
      "cell_type": "code",
      "source": [
        "df.shape"
      ],
      "metadata": {
        "colab": {
          "base_uri": "https://localhost:8080/"
        },
        "id": "q6ztqS4befh1",
        "outputId": "18e80f94-5a82-4130-8590-eeb3e1f288e8"
      },
      "execution_count": 11,
      "outputs": [
        {
          "output_type": "execute_result",
          "data": {
            "text/plain": [
              "(9742, 3)"
            ]
          },
          "metadata": {},
          "execution_count": 11
        }
      ]
    },
    {
      "cell_type": "code",
      "source": [
        "df1.shape"
      ],
      "metadata": {
        "colab": {
          "base_uri": "https://localhost:8080/"
        },
        "id": "QlbXkQPIefvg",
        "outputId": "04d7e6eb-55dd-4791-bb37-249c3e2f04ba"
      },
      "execution_count": 12,
      "outputs": [
        {
          "output_type": "execute_result",
          "data": {
            "text/plain": [
              "(100836, 4)"
            ]
          },
          "metadata": {},
          "execution_count": 12
        }
      ]
    },
    {
      "cell_type": "code",
      "source": [
        "df2.shape"
      ],
      "metadata": {
        "colab": {
          "base_uri": "https://localhost:8080/"
        },
        "id": "HBYspVhhefyF",
        "outputId": "ef370c16-0c37-459b-c4db-2243838bdb3b"
      },
      "execution_count": 9,
      "outputs": [
        {
          "output_type": "execute_result",
          "data": {
            "text/plain": [
              "(3683, 4)"
            ]
          },
          "metadata": {},
          "execution_count": 9
        }
      ]
    },
    {
      "cell_type": "code",
      "source": [
        "df3.shape"
      ],
      "metadata": {
        "colab": {
          "base_uri": "https://localhost:8080/"
        },
        "id": "AYDniFsWef1v",
        "outputId": "15ee642b-5753-49b6-94df-eac1b122c8fa"
      },
      "execution_count": 10,
      "outputs": [
        {
          "output_type": "execute_result",
          "data": {
            "text/plain": [
              "(9742, 3)"
            ]
          },
          "metadata": {},
          "execution_count": 10
        }
      ]
    },
    {
      "cell_type": "code",
      "source": [
        "unique_user_ids = df1['userId'].nunique()\n",
        "\n",
        "print(unique_user_ids)"
      ],
      "metadata": {
        "colab": {
          "base_uri": "https://localhost:8080/"
        },
        "id": "NeqsbR66fMYi",
        "outputId": "7b408840-1936-4531-f52e-682a590bc1bf"
      },
      "execution_count": 15,
      "outputs": [
        {
          "output_type": "stream",
          "name": "stdout",
          "text": [
            "610\n"
          ]
        }
      ]
    },
    {
      "cell_type": "code",
      "source": [
        "import pandas as pd\n",
        "\n",
        "ratings_count = df1['movieId'].value_counts()\n",
        "\n",
        "max_rated_movie_id = ratings_count.idxmax()\n",
        "max_rated_movie_title = df.loc[df['movieId'] == max_rated_movie_id, 'title'].values[0]\n",
        "\n",
        "print(f\"The movie with the maximum number of user ratings is '{max_rated_movie_title}' (movieId: {max_rated_movie_id})\")\n"
      ],
      "metadata": {
        "colab": {
          "base_uri": "https://localhost:8080/"
        },
        "id": "uj34X7iTfqdU",
        "outputId": "f39f4a6c-5fd5-44c4-c8ea-e49a421e2304"
      },
      "execution_count": 26,
      "outputs": [
        {
          "output_type": "stream",
          "name": "stdout",
          "text": [
            "The movie with the maximum number of user ratings is 'Forrest Gump (1994)' (movieId: 356)\n"
          ]
        }
      ]
    },
    {
      "cell_type": "code",
      "source": [
        "user_row = df[df['movieId'] == 47]\n",
        "print(user_row)"
      ],
      "metadata": {
        "colab": {
          "base_uri": "https://localhost:8080/"
        },
        "id": "lQ4ipeSggbs9",
        "outputId": "c2f206dd-dac0-452f-afee-c9757c8f6f88"
      },
      "execution_count": 23,
      "outputs": [
        {
          "output_type": "stream",
          "name": "stdout",
          "text": [
            "    movieId                        title            genres\n",
            "43       47  Seven (a.k.a. Se7en) (1995)  Mystery|Thriller\n"
          ]
        }
      ]
    },
    {
      "cell_type": "code",
      "source": [
        "terminator_movie_id = df.loc[df['title'] == 'Terminator 2: Judgment Day (1991)', 'movieId'].values[0]\n",
        "\n",
        "terminator_ratings = df1[df1['movieId'] == terminator_movie_id]\n",
        "\n",
        "average_rating = terminator_ratings['rating'].mean()\n",
        "\n",
        "print(f\"The average user rating for 'Terminator 2: Judgment Day (1991)' is: {average_rating:.2f}\")"
      ],
      "metadata": {
        "colab": {
          "base_uri": "https://localhost:8080/"
        },
        "id": "DcXkTqq7hEAI",
        "outputId": "eb219064-4ec1-4bee-a9bb-12a891c9376f"
      },
      "execution_count": 30,
      "outputs": [
        {
          "output_type": "stream",
          "name": "stdout",
          "text": [
            "The average user rating for 'Terminator 2: Judgment Day (1991)' is: 3.97\n"
          ]
        }
      ]
    },
    {
      "cell_type": "code",
      "source": [
        "fight_club_movie_id = df.loc[df['title'] == 'Fight Club (1999)', 'movieId'].values[0]\n",
        "\n",
        "fight_club_ratings = df1[df1['movieId'] == fight_club_movie_id]\n",
        "\n",
        "plt.figure(figsize=(10, 6))\n",
        "plt.hist(fight_club_ratings['rating'], bins=5, edgecolor='black', alpha=0.7)\n",
        "plt.title('Distribution of User Ratings for \"Fight Club (1999)\"')\n",
        "plt.xlabel('User Ratings')\n",
        "plt.ylabel('Number of Ratings')\n",
        "plt.show()"
      ],
      "metadata": {
        "colab": {
          "base_uri": "https://localhost:8080/",
          "height": 564
        },
        "id": "jXvrelqWj2nr",
        "outputId": "5cc08a8c-9f59-4699-d572-2d55d22e1754"
      },
      "execution_count": 33,
      "outputs": [
        {
          "output_type": "display_data",
          "data": {
            "text/plain": [
              "<Figure size 1000x600 with 1 Axes>"
            ],
            "image/png": "[encoded data removed]"
          },
          "metadata": {}
        }
      ]
    },
    {
      "cell_type": "code",
      "source": [
        "grouped_ratings = df1.groupby('movieId').agg({'rating': ['count', 'mean']}).reset_index()\n",
        "grouped_ratings.columns = ['movieId', 'ratingCount', 'averageRating']\n",
        "\n",
        "merged_df = pd.merge(df, grouped_ratings, on='movieId', how='inner')\n",
        "\n",
        "filtered_df = merged_df[merged_df['ratingCount'] > 50]\n",
        "\n",
        "print(filtered_df)"
      ],
      "metadata": {
        "colab": {
          "base_uri": "https://localhost:8080/"
        },
        "id": "yF4JQMSdkTaj",
        "outputId": "8b444a3d-bcc2-4f1c-cc1f-34a26b3beea6"
      },
      "execution_count": 34,
      "outputs": [
        {
          "output_type": "stream",
          "name": "stdout",
          "text": [
            "      movieId                             title  \\\n",
            "0           1                  Toy Story (1995)   \n",
            "1           2                    Jumanji (1995)   \n",
            "2           3           Grumpier Old Men (1995)   \n",
            "5           6                       Heat (1995)   \n",
            "6           7                    Sabrina (1995)   \n",
            "...       ...                               ...   \n",
            "8287   106782   Wolf of Wall Street, The (2013)   \n",
            "8354   109374  Grand Budapest Hotel, The (2014)   \n",
            "8358   109487               Interstellar (2014)   \n",
            "8457   112852    Guardians of the Galaxy (2014)   \n",
            "8673   122904                   Deadpool (2016)   \n",
            "\n",
            "                                           genres  ratingCount  averageRating  \n",
            "0     Adventure|Animation|Children|Comedy|Fantasy          215       3.920930  \n",
            "1                      Adventure|Children|Fantasy          110       3.431818  \n",
            "2                                  Comedy|Romance           52       3.259615  \n",
            "5                           Action|Crime|Thriller          102       3.946078  \n",
            "6                                  Comedy|Romance           54       3.185185  \n",
            "...                                           ...          ...            ...  \n",
            "8287                           Comedy|Crime|Drama           54       3.916667  \n",
            "8354                                 Comedy|Drama           52       3.778846  \n",
            "8358                                  Sci-Fi|IMAX           73       3.993151  \n",
            "8457                      Action|Adventure|Sci-Fi           59       4.050847  \n",
            "8673               Action|Adventure|Comedy|Sci-Fi           54       3.833333  \n",
            "\n",
            "[436 rows x 5 columns]\n"
          ]
        }
      ]
    },
    {
      "cell_type": "code",
      "source": [
        "most_popular_movie = filtered_df.loc[filtered_df['averageRating'].idxmax()]\n",
        "\n",
        "print(f\"The most popular movie based on average user ratings is '{most_popular_movie['title']}' \"\n",
        "      f\"with an average rating of {most_popular_movie['averageRating']:.2f}\")"
      ],
      "metadata": {
        "colab": {
          "base_uri": "https://localhost:8080/"
        },
        "id": "zch9SdmEkzdh",
        "outputId": "f73dfddd-78f1-4c86-9c9a-481d98c71bff"
      },
      "execution_count": 35,
      "outputs": [
        {
          "output_type": "stream",
          "name": "stdout",
          "text": [
            "The most popular movie based on average user ratings is 'Shawshank Redemption, The (1994)' with an average rating of 4.43\n"
          ]
        }
      ]
    },
    {
      "cell_type": "code",
      "source": [
        "top_movies_by_ratings = filtered_df.sort_values(by='ratingCount', ascending=False)\n",
        "\n",
        "top_5_movies = top_movies_by_ratings.head(5)\n",
        "\n",
        "print(\"Top 5 popular movies based on number of user ratings:\")\n",
        "print(top_5_movies[['title', 'ratingCount']])"
      ],
      "metadata": {
        "colab": {
          "base_uri": "https://localhost:8080/"
        },
        "id": "qtSCOqrzlB3N",
        "outputId": "bf299925-ec05-4861-df8b-2dca484fa864"
      },
      "execution_count": 36,
      "outputs": [
        {
          "output_type": "stream",
          "name": "stdout",
          "text": [
            "Top 5 popular movies based on number of user ratings:\n",
            "                                 title  ratingCount\n",
            "314                Forrest Gump (1994)          329\n",
            "277   Shawshank Redemption, The (1994)          317\n",
            "257                Pulp Fiction (1994)          307\n",
            "510   Silence of the Lambs, The (1991)          279\n",
            "1938                Matrix, The (1999)          278\n"
          ]
        }
      ]
    },
    {
      "cell_type": "code",
      "source": [
        "sci_fi_movies = filtered_df[filtered_df['genres'].str.contains('Sci-Fi', case=False, regex=False)]\n",
        "\n",
        "sorted_sci_fi_movies = sci_fi_movies.sort_values(by='ratingCount', ascending=False)\n",
        "\n",
        "third_most_popular_sci_fi_movie = sorted_sci_fi_movies.iloc[2]\n",
        "\n",
        "print(f\"The third most popular Sci-Fi movie based on the number of user ratings is '{third_most_popular_sci_fi_movie['title']}' \"\n",
        "      f\"with {third_most_popular_sci_fi_movie['ratingCount']} user ratings.\")\n"
      ],
      "metadata": {
        "colab": {
          "base_uri": "https://localhost:8080/"
        },
        "id": "ydIGbAtQlUBy",
        "outputId": "550a9211-5cd7-4b10-8c5c-daec5ce3c22c"
      },
      "execution_count": 37,
      "outputs": [
        {
          "output_type": "stream",
          "name": "stdout",
          "text": [
            "The third most popular Sci-Fi movie based on the number of user ratings is 'Jurassic Park (1993)' with 238 user ratings.\n"
          ]
        }
      ]
    },
    {
      "cell_type": "code",
      "source": [
        "import requests\n",
        "from bs4 import BeautifulSoup\n",
        "import pandas as pd\n",
        "\n",
        "\n",
        "merged_df_with_links = pd.merge(filtered_df, df3, on='movieId', how='inner')\n",
        "\n",
        "\n",
        "def scrape_imdb_rating(imdb_id):\n",
        "    imdb_url = f'https://www.imdb.com/title/{imdb_id}/'\n",
        "    response = requests.get(imdb_url)\n",
        "    soup = BeautifulSoup(response.text, 'html.parser')\n",
        "\n",
        "\n",
        "    rating_element = soup.find('span', itemprop='ratingValue')\n",
        "\n",
        "\n",
        "    if rating_element:\n",
        "        rating = float(rating_element.text)\n",
        "        return rating\n",
        "    else:\n",
        "        return None\n",
        "\n",
        "\n",
        "highest_rating = 0.0\n",
        "highest_rating_movie_id = None\n",
        "\n",
        "\n",
        "for index, row in merged_df_with_links.iterrows():\n",
        "    imdb_id = row['imdbId']\n",
        "\n",
        "\n",
        "    if pd.notna(imdb_id):\n",
        "        rating = scrape_imdb_rating(imdb_id)\n",
        "\n",
        "\n",
        "        if rating is not None and rating > highest_rating:\n",
        "            highest_rating = rating\n",
        "            highest_rating_movie_id = row['movieId']\n",
        "\n",
        "\n",
        "print(f\"The movieId of the movie with the highest IMDB rating is: {highest_rating_movie_id}\")\n"
      ],
      "metadata": {
        "id": "-e3klze-lhh4"
      },
      "execution_count": null,
      "outputs": []
    },
    {
      "cell_type": "code",
      "source": [
        "import requests\n",
        "from bs4 import BeautifulSoup\n",
        "import pandas as pd\n",
        "\n",
        "links_file_path = 'links.csv'\n",
        "\n",
        "\n",
        "links_df = pd.read_csv(links_file_path)\n",
        "\n",
        "\n",
        "merged_df_with_links = pd.merge(filtered_df, links_df, on='movieId', how='inner')\n",
        "\n",
        "\n",
        "def scrape_imdb_rating(imdb_id):\n",
        "    imdb_url = f'https://www.imdb.com/title/{imdb_id}/'\n",
        "    response = requests.get(imdb_url)\n",
        "    soup = BeautifulSoup(response.text, 'html.parser')\n",
        "\n",
        "\n",
        "    rating_element = soup.find('span', itemprop='ratingValue')\n",
        "\n",
        "\n",
        "    if rating_element:\n",
        "        rating = float(rating_element.text)\n",
        "        return rating\n",
        "    else:\n",
        "        return None\n",
        "\n",
        "\n",
        "highest_rating = 0.0\n",
        "highest_rating_movie_id = None\n",
        "\n",
        "\n",
        "for index, row in merged_df_with_links.iterrows():\n",
        "    imdb_id = row['imdbId']\n",
        "    genres = row['genres']\n",
        "\n",
        "\n",
        "    if pd.notna(imdb_id) and 'Sci-Fi' in genres:\n",
        "        rating = scrape_imdb_rating(imdb_id)\n",
        "\n",
        "\n",
        "        if rating is not None and rating > highest_rating:\n",
        "            highest_rating = rating\n",
        "            highest_rating_movie_id = row['movieId']\n",
        "\n",
        "\n",
        "print(f\"The movieId of the Sci-Fi movie with the highest IMDB rating is: {highest_rating_movie_id}\")\n"
      ],
      "metadata": {
        "id": "JKaAwh97p1H-"
      },
      "execution_count": null,
      "outputs": []
    },
    {
      "cell_type": "code",
      "source": [],
      "metadata": {
        "id": "Ysc9RCqe1QIs"
      },
      "execution_count": null,
      "outputs": []
    }
  ]
}